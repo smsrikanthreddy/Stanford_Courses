{
 "cells": [
  {
   "cell_type": "code",
   "execution_count": 12,
   "metadata": {},
   "outputs": [
    {
     "data": {
      "text/plain": [
       "'1.8.0'"
      ]
     },
     "execution_count": 12,
     "metadata": {},
     "output_type": "execute_result"
    }
   ],
   "source": [
    "import pickle\n",
    "import os\n",
    "import time\n",
    "import string\n",
    "import numpy as np\n",
    "\n",
    "%matplotlib inline\n",
    "import matplotlib.pyplot as plt\n",
    "\n",
    "import tensorflow as tf\n",
    "tf.__version__"
   ]
  },
  {
   "cell_type": "code",
   "execution_count": 3,
   "metadata": {
    "collapsed": true
   },
   "outputs": [],
   "source": [
    "#DATAPATH\n",
    "DATAPATH = \"/Users/srikanth_m07/Documents/ml_dataset/vision/notMNIST/\""
   ]
  },
  {
   "cell_type": "code",
   "execution_count": 4,
   "metadata": {
    "collapsed": true
   },
   "outputs": [],
   "source": [
    "#load the dataset\n",
    "pickle_file = 'notMNIST.pickle'\n",
    "fileObject = open(os.path.join(DATAPATH, pickle_file),'rb')\n",
    "data = pickle.load(fileObject)"
   ]
  },
  {
   "cell_type": "code",
   "execution_count": 5,
   "metadata": {
    "collapsed": true
   },
   "outputs": [],
   "source": [
    "def randomize(dataset, labels):\n",
    "    permutation = np.random.permutation(labels.shape[0])\n",
    "    shuffled_dataset = dataset[permutation,:,:]\n",
    "    shuffled_labels = labels[permutation]\n",
    "    return shuffled_dataset, shuffled_labels\n",
    "train_dataset, train_labels = randomize(data['train_dataset'], data['train_labels'])\n",
    "test_dataset, test_labels = randomize(data['test_dataset'], data['test_labels'])\n",
    "valid_dataset, valid_labels = randomize(data['valid_dataset'], data['valid_labels'])"
   ]
  },
  {
   "cell_type": "code",
   "execution_count": 6,
   "metadata": {},
   "outputs": [
    {
     "data": {
      "text/plain": [
       "((200000, 28, 28),\n",
       " (200000,),\n",
       " (10000, 28, 28),\n",
       " (10000,),\n",
       " (10000, 28, 28),\n",
       " (10000,))"
      ]
     },
     "execution_count": 6,
     "metadata": {},
     "output_type": "execute_result"
    }
   ],
   "source": [
    "train_dataset.shape, train_labels.shape, test_dataset.shape, test_labels.shape, valid_dataset.shape, valid_labels.shape"
   ]
  },
  {
   "cell_type": "code",
   "execution_count": 7,
   "metadata": {
    "collapsed": true
   },
   "outputs": [],
   "source": [
    "def show_label_image(idx):\n",
    "    print('Labels :-', string.ascii_uppercase[train_labels[idx]])\n",
    "    return plt.imshow(train_dataset[idx])"
   ]
  },
  {
   "cell_type": "code",
   "execution_count": 13,
   "metadata": {},
   "outputs": [
    {
     "name": "stdout",
     "output_type": "stream",
     "text": [
      "Labels :- C\n"
     ]
    },
    {
     "data": {
      "text/plain": [
       "<matplotlib.image.AxesImage at 0x18247e5940>"
      ]
     },
     "execution_count": 13,
     "metadata": {},
     "output_type": "execute_result"
    },
    {
     "data": {
      "image/png": "[encoded data removed]",
      "text/plain": [
       "<matplotlib.figure.Figure at 0x181bf8f780>"
      ]
     },
     "metadata": {},
     "output_type": "display_data"
    }
   ],
   "source": [
    "show_label_image(0)"
   ]
  },
  {
   "cell_type": "code",
   "execution_count": 14,
   "metadata": {},
   "outputs": [
    {
     "name": "stdout",
     "output_type": "stream",
     "text": [
      "Labels :- F\n"
     ]
    },
    {
     "data": {
      "text/plain": [
       "<matplotlib.image.AxesImage at 0x18248758d0>"
      ]
     },
     "execution_count": 14,
     "metadata": {},
     "output_type": "execute_result"
    },
    {
     "data": {
      "image/png": "[encoded data removed]",
      "text/plain": [
       "<matplotlib.figure.Figure at 0x182479f978>"
      ]
     },
     "metadata": {},
     "output_type": "display_data"
    }
   ],
   "source": [
    "show_label_image(1)"
   ]
  },
  {
   "cell_type": "markdown",
   "metadata": {},
   "source": [
    "#### Reformat data into Tensorflow friendly shape\n",
    ". convolutions need the image data formatted as a cube (width x hight x channels) <br>\n",
    ". labels as float 1-hot encodings"
   ]
  },
  {
   "cell_type": "code",
   "execution_count": 51,
   "metadata": {
    "collapsed": true
   },
   "outputs": [],
   "source": [
    "#define hyperparameters\n",
    "learning_rate = 0.01\n",
    "#learning_rate = 0.4\n",
    "regularization = 0.12\n",
    "dropout_rate = 0.5\n",
    "image_size = 28\n",
    "batch_size = 128\n",
    "n_epochs = 15001\n",
    "num_labels = 10\n",
    "num_channels = 1 #grayscale"
   ]
  },
  {
   "cell_type": "code",
   "execution_count": 27,
   "metadata": {},
   "outputs": [
    {
     "name": "stdout",
     "output_type": "stream",
     "text": [
      "Training set  (200000, 28, 28, 1) (200000, 10)\n",
      "Validation set  (10000, 28, 28, 1) (10000, 10)\n",
      "Testing set  (10000, 28, 28, 1) (10000, 10)\n"
     ]
    }
   ],
   "source": [
    "def reformat(dataset, labels):\n",
    "    #print(dataset.shape)\n",
    "    dataset = dataset.reshape((-1, image_size, image_size, num_channels)).astype(np.float32)\n",
    "    #print(dataset.shape)\n",
    "    labels = (np.arange(num_labels) == labels[:, None]).astype(np.float32)\n",
    "    return dataset, labels\n",
    "\n",
    "train_dataset, train_labels = reformat(train_dataset, train_labels)\n",
    "valid_dataset, valid_labels = reformat(valid_dataset, valid_labels)\n",
    "test_dataset, test_labels = reformat(test_dataset, test_labels)\n",
    "\n",
    "print('Training set ', train_dataset.shape, train_labels.shape)\n",
    "print('Validation set ', valid_dataset.shape, valid_labels.shape)\n",
    "print('Testing set ', test_dataset.shape, test_labels.shape)"
   ]
  },
  {
   "cell_type": "code",
   "execution_count": 49,
   "metadata": {
    "collapsed": true
   },
   "outputs": [],
   "source": [
    "#define accuracy\n",
    "def accuracy(predictions, labels):\n",
    "    return (100.0 * np.sum(np.argmax(predictions, 1) == np.argmax(labels, 1))/predictions.shape[0])"
   ]
  },
  {
   "cell_type": "code",
   "execution_count": 30,
   "metadata": {
    "collapsed": true
   },
   "outputs": [],
   "source": [
    "def get_relu(logits):\n",
    "    relu = tf.nn.relu(logits)\n",
    "    if train:\n",
    "        return tf.nn.dropout(relu, dropout_rate)\n",
    "    else:\n",
    "        return relu"
   ]
  },
  {
   "cell_type": "code",
   "execution_count": 35,
   "metadata": {
    "collapsed": true
   },
   "outputs": [],
   "source": [
    "#CNN core parameters\n",
    "patch_size = 13\n",
    "depth = 16\n",
    "pooling_size = 2\n",
    "stride_movement = [1, 2, 2, 1]"
   ]
  },
  {
   "cell_type": "code",
   "execution_count": 31,
   "metadata": {
    "collapsed": true
   },
   "outputs": [],
   "source": [
    "num_hidden = 64\n",
    "def get_weights(shape):\n",
    "    return tf.Variable(tf.truncated_normal(shape, stddev=0.1))\n",
    "def get_biases(shape):\n",
    "    return tf.Variable(tf.constant(1.0, shape=[shape[-1]]))\n",
    "def get_weights_biases(shape):\n",
    "    weights = get_weights(shape)\n",
    "    biases = get_biases(shape)\n",
    "    return weights, biases"
   ]
  },
  {
   "cell_type": "code",
   "execution_count": 45,
   "metadata": {},
   "outputs": [],
   "source": [
    "graph = tf.Graph()\n",
    "\n",
    "with graph.as_default():\n",
    "\n",
    "  # Input data.\n",
    "    tf_train_dataset = tf.placeholder(tf.float32, shape=(batch_size, image_size, image_size, num_channels))\n",
    "    tf_train_labels = tf.placeholder(tf.float32, shape=(batch_size, num_labels))\n",
    "    tf_valid_dataset = tf.constant(valid_dataset)\n",
    "    tf_test_dataset = tf.constant(test_dataset)\n",
    "  \n",
    "  # Variables.\n",
    "    layer1_weights = get_weights([patch_size, patch_size, num_channels, depth])\n",
    "    layer1_biases = tf.Variable(tf.zeros([depth]))\n",
    "\n",
    "    layer3_weights, layer3_biases = get_weights_biases([4, 4, depth, depth*2])\n",
    "    layer5_weights, layer5_biases = get_weights_biases([2, 2, depth*2, num_hidden])\n",
    "    layer6_weights, layer6_biases = get_weights_biases([num_hidden, num_hidden])\n",
    "    layer7_weights, layer7_biases = get_weights_biases([num_hidden, num_hidden])\n",
    "    layer8_weights, layer8_biases = get_weights_biases([num_hidden, num_labels])\n",
    "  \n",
    "  # Model.\n",
    "    def model(data, train=False):\n",
    "        \n",
    "        conv = tf.nn.conv2d(data, layer1_weights, [1, 1, 1, 1], padding='VALID')\n",
    "        hidden = tf.nn.relu(conv + layer1_biases)\n",
    "\n",
    "        pool = tf.nn.max_pool(hidden, [1, pooling_size, pooling_size, 1], stride_movement, padding='SAME')\n",
    "        hidden = tf.nn.relu(pool)\n",
    "\n",
    "        conv = tf.nn.conv2d(hidden, layer3_weights, stride_movement, padding='SAME')\n",
    "        hidden = tf.nn.relu(conv + layer3_biases)\n",
    "\n",
    "        pool = tf.nn.max_pool(hidden, [1, pooling_size, pooling_size, 1], stride_movement, padding='SAME')\n",
    "        hidden = tf.nn.relu(pool)\n",
    "\n",
    "        conv = tf.nn.conv2d(hidden, layer5_weights, [1, 1, 1, 1], padding='VALID')\n",
    "        hidden = tf.nn.relu(conv + layer5_biases)\n",
    "\n",
    "        shape = hidden.get_shape().as_list()\n",
    "        reshape = tf.reshape(hidden, [shape[0], shape[1] * shape[2] * shape[3]])\n",
    "\n",
    "        def get_relu(logits):\n",
    "            relu = tf.nn.relu(logits)\n",
    "            if train:\n",
    "                return tf.nn.dropout(relu, dropout_rate)\n",
    "            else:\n",
    "                return relu\n",
    "\n",
    "        fully_connected = tf.matmul(reshape, layer6_weights) + layer6_biases\n",
    "        hidden = get_relu(fully_connected)\n",
    "\n",
    "        fully_connected = tf.matmul(hidden, layer7_weights) + layer7_biases\n",
    "        hidden = get_relu(fully_connected)\n",
    "\n",
    "        classifier = tf.matmul(hidden, layer8_weights) + layer8_biases\n",
    "\n",
    "        return classifier\n",
    "  \n",
    "  # Training computation.\n",
    "    logits = model(tf_train_dataset, train=True)\n",
    "    loss = tf.reduce_mean(tf.nn.softmax_cross_entropy_with_logits_v2(logits=logits, labels=tf_train_labels))\n",
    "    \n",
    "    l2_loss = loss + (regularization * tf.nn.l2_loss(layer8_weights))\n",
    "    global_step = tf.Variable(0)\n",
    "    lr = tf.train.exponential_decay(learning_rate, global_step, 300, 0.99 )\n",
    "  \n",
    "  # Optimizer.\n",
    "    optimizer = tf.train.GradientDescentOptimizer(lr).minimize(l2_loss, global_step=global_step)\n",
    "  \n",
    "  # Predictions for the training, validation, and test data.\n",
    "    train_prediction = tf.nn.softmax(logits)\n",
    "    valid_prediction = tf.nn.softmax(model(tf_valid_dataset))\n",
    "    test_prediction = tf.nn.softmax(model(tf_test_dataset))"
   ]
  },
  {
   "cell_type": "code",
   "execution_count": 52,
   "metadata": {},
   "outputs": [
    {
     "name": "stdout",
     "output_type": "stream",
     "text": [
      "Initialized\n",
      "Minibatch loss at step 0: 3.371017\n",
      "Minibatch accuracy: 7.0%\n",
      "Validation accuracy: 6.6%\n",
      "Minibatch loss at step 1000: 1.511997\n",
      "Minibatch accuracy: 48.4%\n",
      "Validation accuracy: 58.1%\n",
      "Minibatch loss at step 2000: 1.303013\n",
      "Minibatch accuracy: 60.2%\n",
      "Validation accuracy: 66.2%\n",
      "Minibatch loss at step 3000: 0.934684\n",
      "Minibatch accuracy: 67.2%\n",
      "Validation accuracy: 74.3%\n",
      "Minibatch loss at step 4000: 0.987666\n",
      "Minibatch accuracy: 69.5%\n",
      "Validation accuracy: 78.6%\n",
      "Minibatch loss at step 5000: 0.712327\n",
      "Minibatch accuracy: 79.7%\n",
      "Validation accuracy: 80.2%\n",
      "Minibatch loss at step 6000: 0.769570\n",
      "Minibatch accuracy: 74.2%\n",
      "Validation accuracy: 81.0%\n",
      "Minibatch loss at step 7000: 0.671988\n",
      "Minibatch accuracy: 83.6%\n",
      "Validation accuracy: 81.4%\n",
      "Minibatch loss at step 8000: 0.703524\n",
      "Minibatch accuracy: 78.9%\n",
      "Validation accuracy: 82.0%\n",
      "Minibatch loss at step 9000: 0.721824\n",
      "Minibatch accuracy: 73.4%\n",
      "Validation accuracy: 82.5%\n",
      "Minibatch loss at step 10000: 0.649094\n",
      "Minibatch accuracy: 78.9%\n",
      "Validation accuracy: 82.6%\n",
      "Minibatch loss at step 11000: 0.524415\n",
      "Minibatch accuracy: 86.7%\n",
      "Validation accuracy: 83.2%\n",
      "Minibatch loss at step 12000: 0.714673\n",
      "Minibatch accuracy: 78.9%\n",
      "Validation accuracy: 83.5%\n",
      "Minibatch loss at step 13000: 0.763942\n",
      "Minibatch accuracy: 78.1%\n",
      "Validation accuracy: 83.6%\n",
      "Minibatch loss at step 14000: 0.619172\n",
      "Minibatch accuracy: 78.1%\n",
      "Validation accuracy: 84.0%\n",
      "Minibatch loss at step 15000: 0.615364\n",
      "Minibatch accuracy: 82.0%\n",
      "Validation accuracy: 84.1%\n",
      "Test accuracy: 91.0%\n"
     ]
    }
   ],
   "source": [
    "with tf.Session(graph=graph) as session:\n",
    "    tf.global_variables_initializer().run()\n",
    "    print('Initialized')\n",
    "    for step in range(n_epochs):\n",
    "        offset = (step * batch_size) % (train_labels.shape[0] - batch_size)\n",
    "        batch_data = train_dataset[offset:(offset + batch_size), :, :, :]\n",
    "        batch_labels = train_labels[offset:(offset + batch_size), :]\n",
    "        feed_dict = {tf_train_dataset : batch_data, tf_train_labels : batch_labels}\n",
    "        _, l, predictions = session.run([optimizer, loss, train_prediction], feed_dict=feed_dict)\n",
    "        if (step % 1000 == 0):\n",
    "            print('Minibatch loss at step %d: %f' % (step, l))\n",
    "            print('Minibatch accuracy: %.1f%%' % accuracy(predictions, batch_labels))\n",
    "            print('Validation accuracy: %.1f%%' % accuracy(valid_prediction.eval(), valid_labels))\n",
    "    print('Test accuracy: %.1f%%' % accuracy(test_prediction.eval(), test_labels))"
   ]
  },
  {
   "cell_type": "code",
   "execution_count": null,
   "metadata": {
    "collapsed": true
   },
   "outputs": [],
   "source": []
  }
 ],
 "metadata": {
  "kernelspec": {
   "display_name": "Python 3",
   "language": "python",
   "name": "python3"
  },
  "language_info": {
   "codemirror_mode": {
    "name": "ipython",
    "version": 3
   },
   "file_extension": ".py",
   "mimetype": "text/x-python",
   "name": "python",
   "nbconvert_exporter": "python",
   "pygments_lexer": "ipython3",
   "version": "3.6.3"
  }
 },
 "nbformat": 4,
 "nbformat_minor": 2
}
