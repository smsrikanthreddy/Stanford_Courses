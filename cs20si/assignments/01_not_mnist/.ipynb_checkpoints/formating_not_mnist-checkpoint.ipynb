{
 "cells": [
  {
   "cell_type": "code",
   "execution_count": 36,
   "metadata": {},
   "outputs": [
    {
     "data": {
      "text/plain": [
       "'1.8.0'"
      ]
     },
     "execution_count": 36,
     "metadata": {},
     "output_type": "execute_result"
    }
   ],
   "source": [
    "import time\n",
    "import imageio\n",
    "import os\n",
    "import sys\n",
    "import tarfile\n",
    "import pickle\n",
    "\n",
    "import numpy as np\n",
    "\n",
    "import tensorflow as tf\n",
    "tf.__version__"
   ]
  },
  {
   "cell_type": "code",
   "execution_count": 7,
   "metadata": {
    "collapsed": true
   },
   "outputs": [],
   "source": [
    "DATAPATH = '/Users/srikanth_m07/Documents/ml_dataset/vision/notMNIST/'"
   ]
  },
  {
   "cell_type": "code",
   "execution_count": 14,
   "metadata": {
    "collapsed": true
   },
   "outputs": [],
   "source": [
    "num_classes = 10"
   ]
  },
  {
   "cell_type": "code",
   "execution_count": 16,
   "metadata": {},
   "outputs": [
    {
     "name": "stdout",
     "output_type": "stream",
     "text": [
      "/Users/srikanth_m07/Documents/ml_dataset/vision/notMNIST/notMNIST_large.tar.gz extracting the data\n",
      "/Users/srikanth_m07/Documents/ml_dataset/vision/notMNIST/notMNIST_small.tar.gz extracting the data\n"
     ]
    }
   ],
   "source": [
    "#extract the tar.gz files\n",
    "\n",
    "train_filename = DATAPATH + 'notMNIST_large.tar.gz'\n",
    "test_filename = DATAPATH + 'notMNIST_small.tar.gz'\n",
    "\n",
    "def maybe_extract(filename):\n",
    "    root_file = os.path.splitext(os.path.splitext(filename)[0])[0]\n",
    "    if os.path.isdir(root_file):\n",
    "        print('{} already extracted'.format(filename))\n",
    "    else:\n",
    "        print('{} extracting the data'.format(filename))\n",
    "        tar = tarfile.open(filename)\n",
    "        tar.extractall(DATAPATH)\n",
    "        tar.close()\n",
    "    data_folders = [os.path.join(root_file,d) for d in sorted(os.listdir(root_file))]\n",
    "    return data_folders\n",
    "\n",
    "train_folders = maybe_extract(train_filename)\n",
    "test_folders = maybe_extract(test_filename)"
   ]
  },
  {
   "cell_type": "code",
   "execution_count": 26,
   "metadata": {},
   "outputs": [
    {
     "name": "stdout",
     "output_type": "stream",
     "text": [
      "train folder info /Users/srikanth_m07/Documents/ml_dataset/vision/notMNIST/notMNIST_large/A\n"
     ]
    },
    {
     "data": {
      "image/png": "[encoded data removed]",
      "text/plain": [
       "<IPython.core.display.Image object>"
      ]
     },
     "metadata": {},
     "output_type": "display_data"
    },
    {
     "name": "stdout",
     "output_type": "stream",
     "text": [
      "train folder info /Users/srikanth_m07/Documents/ml_dataset/vision/notMNIST/notMNIST_large/B\n"
     ]
    },
    {
     "data": {
      "image/png": "[encoded data removed]",
      "text/plain": [
       "<IPython.core.display.Image object>"
      ]
     },
     "metadata": {},
     "output_type": "display_data"
    },
    {
     "name": "stdout",
     "output_type": "stream",
     "text": [
      "train folder info /Users/srikanth_m07/Documents/ml_dataset/vision/notMNIST/notMNIST_large/C\n"
     ]
    },
    {
     "data": {
      "image/png": "[encoded data removed]",
      "text/plain": [
       "<IPython.core.display.Image object>"
      ]
     },
     "metadata": {},
     "output_type": "display_data"
    },
    {
     "name": "stdout",
     "output_type": "stream",
     "text": [
      "train folder info /Users/srikanth_m07/Documents/ml_dataset/vision/notMNIST/notMNIST_large/D\n"
     ]
    },
    {
     "data": {
      "image/png": "[encoded data removed]",
      "text/plain": [
       "<IPython.core.display.Image object>"
      ]
     },
     "metadata": {},
     "output_type": "display_data"
    },
    {
     "name": "stdout",
     "output_type": "stream",
     "text": [
      "train folder info /Users/srikanth_m07/Documents/ml_dataset/vision/notMNIST/notMNIST_large/E\n"
     ]
    },
    {
     "data": {
      "image/png": "[encoded data removed]",
      "text/plain": [
       "<IPython.core.display.Image object>"
      ]
     },
     "metadata": {},
     "output_type": "display_data"
    },
    {
     "name": "stdout",
     "output_type": "stream",
     "text": [
      "train folder info /Users/srikanth_m07/Documents/ml_dataset/vision/notMNIST/notMNIST_large/F\n"
     ]
    },
    {
     "data": {
      "image/png": "[encoded data removed]",
      "text/plain": [
       "<IPython.core.display.Image object>"
      ]
     },
     "metadata": {},
     "output_type": "display_data"
    },
    {
     "name": "stdout",
     "output_type": "stream",
     "text": [
      "train folder info /Users/srikanth_m07/Documents/ml_dataset/vision/notMNIST/notMNIST_large/G\n"
     ]
    },
    {
     "data": {
      "image/png": "[encoded data removed]",
      "text/plain": [
       "<IPython.core.display.Image object>"
      ]
     },
     "metadata": {},
     "output_type": "display_data"
    },
    {
     "name": "stdout",
     "output_type": "stream",
     "text": [
      "train folder info /Users/srikanth_m07/Documents/ml_dataset/vision/notMNIST/notMNIST_large/H\n"
     ]
    },
    {
     "data": {
      "image/png": "[encoded data removed]",
      "text/plain": [
       "<IPython.core.display.Image object>"
      ]
     },
     "metadata": {},
     "output_type": "display_data"
    },
    {
     "name": "stdout",
     "output_type": "stream",
     "text": [
      "train folder info /Users/srikanth_m07/Documents/ml_dataset/vision/notMNIST/notMNIST_large/I\n"
     ]
    },
    {
     "data": {
      "image/png": "[encoded data removed]",
      "text/plain": [
       "<IPython.core.display.Image object>"
      ]
     },
     "metadata": {},
     "output_type": "display_data"
    },
    {
     "name": "stdout",
     "output_type": "stream",
     "text": [
      "train folder info /Users/srikanth_m07/Documents/ml_dataset/vision/notMNIST/notMNIST_large/J\n"
     ]
    },
    {
     "data": {
      "image/png": "[encoded data removed]",
      "text/plain": [
       "<IPython.core.display.Image object>"
      ]
     },
     "metadata": {},
     "output_type": "display_data"
    },
    {
     "name": "stdout",
     "output_type": "stream",
     "text": [
      "test folder info /Users/srikanth_m07/Documents/ml_dataset/vision/notMNIST/notMNIST_small/A\n"
     ]
    },
    {
     "data": {
      "image/png": "[encoded data removed]",
      "text/plain": [
       "<IPython.core.display.Image object>"
      ]
     },
     "metadata": {},
     "output_type": "display_data"
    },
    {
     "name": "stdout",
     "output_type": "stream",
     "text": [
      "test folder info /Users/srikanth_m07/Documents/ml_dataset/vision/notMNIST/notMNIST_small/B\n"
     ]
    },
    {
     "data": {
      "image/png": "[encoded data removed]",
      "text/plain": [
       "<IPython.core.display.Image object>"
      ]
     },
     "metadata": {},
     "output_type": "display_data"
    },
    {
     "name": "stdout",
     "output_type": "stream",
     "text": [
      "test folder info /Users/srikanth_m07/Documents/ml_dataset/vision/notMNIST/notMNIST_small/C\n"
     ]
    },
    {
     "data": {
      "image/png": "[encoded data removed]",
      "text/plain": [
       "<IPython.core.display.Image object>"
      ]
     },
     "metadata": {},
     "output_type": "display_data"
    },
    {
     "name": "stdout",
     "output_type": "stream",
     "text": [
      "test folder info /Users/srikanth_m07/Documents/ml_dataset/vision/notMNIST/notMNIST_small/D\n"
     ]
    },
    {
     "data": {
      "image/png": "[encoded data removed]",
      "text/plain": [
       "<IPython.core.display.Image object>"
      ]
     },
     "metadata": {},
     "output_type": "display_data"
    },
    {
     "name": "stdout",
     "output_type": "stream",
     "text": [
      "test folder info /Users/srikanth_m07/Documents/ml_dataset/vision/notMNIST/notMNIST_small/E\n"
     ]
    },
    {
     "data": {
      "image/png": "[encoded data removed]",
      "text/plain": [
       "<IPython.core.display.Image object>"
      ]
     },
     "metadata": {},
     "output_type": "display_data"
    },
    {
     "name": "stdout",
     "output_type": "stream",
     "text": [
      "test folder info /Users/srikanth_m07/Documents/ml_dataset/vision/notMNIST/notMNIST_small/F\n"
     ]
    },
    {
     "data": {
      "image/png": "[encoded data removed]",
      "text/plain": [
       "<IPython.core.display.Image object>"
      ]
     },
     "metadata": {},
     "output_type": "display_data"
    },
    {
     "name": "stdout",
     "output_type": "stream",
     "text": [
      "test folder info /Users/srikanth_m07/Documents/ml_dataset/vision/notMNIST/notMNIST_small/G\n"
     ]
    },
    {
     "data": {
      "image/png": "[encoded data removed]",
      "text/plain": [
       "<IPython.core.display.Image object>"
      ]
     },
     "metadata": {},
     "output_type": "display_data"
    },
    {
     "name": "stdout",
     "output_type": "stream",
     "text": [
      "test folder info /Users/srikanth_m07/Documents/ml_dataset/vision/notMNIST/notMNIST_small/H\n"
     ]
    },
    {
     "data": {
      "image/png": "[encoded data removed]",
      "text/plain": [
       "<IPython.core.display.Image object>"
      ]
     },
     "metadata": {},
     "output_type": "display_data"
    },
    {
     "name": "stdout",
     "output_type": "stream",
     "text": [
      "test folder info /Users/srikanth_m07/Documents/ml_dataset/vision/notMNIST/notMNIST_small/I\n"
     ]
    },
    {
     "data": {
      "image/png": "[encoded data removed]",
      "text/plain": [
       "<IPython.core.display.Image object>"
      ]
     },
     "metadata": {},
     "output_type": "display_data"
    },
    {
     "name": "stdout",
     "output_type": "stream",
     "text": [
      "test folder info /Users/srikanth_m07/Documents/ml_dataset/vision/notMNIST/notMNIST_small/J\n"
     ]
    },
    {
     "data": {
      "image/png": "[encoded data removed]",
      "text/plain": [
       "<IPython.core.display.Image object>"
      ]
     },
     "metadata": {},
     "output_type": "display_data"
    }
   ],
   "source": [
    "#just displaying some images\n",
    "\n",
    "from IPython.display import Image\n",
    "\n",
    "for folder in train_folders:\n",
    "    for ids, fname in enumerate(os.listdir(folder)):\n",
    "        print('train folder info {}'.format(folder))\n",
    "        display(Image(os.path.join(folder, fname)))\n",
    "        break\n",
    "\n",
    "for folder in test_folders:\n",
    "    for ids, fname in enumerate(os.listdir(folder)):\n",
    "        print('test folder info {}'.format(folder))\n",
    "        display(Image(os.path.join(folder, fname)))\n",
    "        break"
   ]
  },
  {
   "cell_type": "code",
   "execution_count": 37,
   "metadata": {},
   "outputs": [
    {
     "name": "stdout",
     "output_type": "stream",
     "text": [
      "Pickling /Users/srikanth_m07/Documents/ml_dataset/vision/notMNIST/notMNIST_large/A.pickle.\n",
      "folder name:- /Users/srikanth_m07/Documents/ml_dataset/vision/notMNIST/notMNIST_large/A\n",
      "Could not read: /Users/srikanth_m07/Documents/ml_dataset/vision/notMNIST/notMNIST_large/A/RnJlaWdodERpc3BCb29rSXRhbGljLnR0Zg==.png : Could not find a format to read the specified file in mode 'i' - it's ok, skipping.\n",
      "Could not read: /Users/srikanth_m07/Documents/ml_dataset/vision/notMNIST/notMNIST_large/A/SG90IE11c3RhcmQgQlROIFBvc3Rlci50dGY=.png : Could not find a format to read the specified file in mode 'i' - it's ok, skipping.\n",
      "Could not read: /Users/srikanth_m07/Documents/ml_dataset/vision/notMNIST/notMNIST_large/A/Um9tYW5hIEJvbGQucGZi.png : Could not find a format to read the specified file in mode 'i' - it's ok, skipping.\n",
      "Full dataset tensor: (52909, 28, 28)\n",
      "Mean: -0.12825024\n",
      "Standard deviation: 0.44312063\n",
      "(52909, 28, 28)\n",
      "Pickling /Users/srikanth_m07/Documents/ml_dataset/vision/notMNIST/notMNIST_large/B.pickle.\n",
      "folder name:- /Users/srikanth_m07/Documents/ml_dataset/vision/notMNIST/notMNIST_large/B\n",
      "Could not read: /Users/srikanth_m07/Documents/ml_dataset/vision/notMNIST/notMNIST_large/B/TmlraXNFRi1TZW1pQm9sZEl0YWxpYy5vdGY=.png : Could not find a format to read the specified file in mode 'i' - it's ok, skipping.\n",
      "Full dataset tensor: (52911, 28, 28)\n",
      "Mean: -0.0075630303\n",
      "Standard deviation: 0.45449105\n",
      "(52911, 28, 28)\n",
      "Pickling /Users/srikanth_m07/Documents/ml_dataset/vision/notMNIST/notMNIST_large/C.pickle.\n",
      "folder name:- /Users/srikanth_m07/Documents/ml_dataset/vision/notMNIST/notMNIST_large/C\n",
      "Full dataset tensor: (52912, 28, 28)\n",
      "Mean: -0.14225811\n",
      "Standard deviation: 0.43980625\n",
      "(52912, 28, 28)\n",
      "Pickling /Users/srikanth_m07/Documents/ml_dataset/vision/notMNIST/notMNIST_large/D.pickle.\n",
      "folder name:- /Users/srikanth_m07/Documents/ml_dataset/vision/notMNIST/notMNIST_large/D\n",
      "Could not read: /Users/srikanth_m07/Documents/ml_dataset/vision/notMNIST/notMNIST_large/D/VHJhbnNpdCBCb2xkLnR0Zg==.png : Could not find a format to read the specified file in mode 'i' - it's ok, skipping.\n",
      "Full dataset tensor: (52911, 28, 28)\n",
      "Mean: -0.057367794\n",
      "Standard deviation: 0.45564765\n",
      "(52911, 28, 28)\n",
      "Pickling /Users/srikanth_m07/Documents/ml_dataset/vision/notMNIST/notMNIST_large/E.pickle.\n",
      "folder name:- /Users/srikanth_m07/Documents/ml_dataset/vision/notMNIST/notMNIST_large/E\n",
      "Full dataset tensor: (52912, 28, 28)\n",
      "Mean: -0.06989899\n",
      "Standard deviation: 0.45294195\n",
      "(52912, 28, 28)\n",
      "Pickling /Users/srikanth_m07/Documents/ml_dataset/vision/notMNIST/notMNIST_large/F.pickle.\n",
      "folder name:- /Users/srikanth_m07/Documents/ml_dataset/vision/notMNIST/notMNIST_large/F\n",
      "Full dataset tensor: (52912, 28, 28)\n",
      "Mean: -0.1255833\n",
      "Standard deviation: 0.44708964\n",
      "(52912, 28, 28)\n",
      "Pickling /Users/srikanth_m07/Documents/ml_dataset/vision/notMNIST/notMNIST_large/G.pickle.\n",
      "folder name:- /Users/srikanth_m07/Documents/ml_dataset/vision/notMNIST/notMNIST_large/G\n",
      "Full dataset tensor: (52912, 28, 28)\n",
      "Mean: -0.09458135\n",
      "Standard deviation: 0.44623983\n",
      "(52912, 28, 28)\n",
      "Pickling /Users/srikanth_m07/Documents/ml_dataset/vision/notMNIST/notMNIST_large/H.pickle.\n",
      "folder name:- /Users/srikanth_m07/Documents/ml_dataset/vision/notMNIST/notMNIST_large/H\n",
      "Full dataset tensor: (52912, 28, 28)\n",
      "Mean: -0.06852206\n",
      "Standard deviation: 0.45423177\n",
      "(52912, 28, 28)\n",
      "Pickling /Users/srikanth_m07/Documents/ml_dataset/vision/notMNIST/notMNIST_large/I.pickle.\n",
      "folder name:- /Users/srikanth_m07/Documents/ml_dataset/vision/notMNIST/notMNIST_large/I\n",
      "Full dataset tensor: (52912, 28, 28)\n",
      "Mean: 0.03078625\n",
      "Standard deviation: 0.46889907\n",
      "(52912, 28, 28)\n",
      "Pickling /Users/srikanth_m07/Documents/ml_dataset/vision/notMNIST/notMNIST_large/J.pickle.\n",
      "folder name:- /Users/srikanth_m07/Documents/ml_dataset/vision/notMNIST/notMNIST_large/J\n",
      "Full dataset tensor: (52911, 28, 28)\n",
      "Mean: -0.15335836\n",
      "Standard deviation: 0.44365644\n",
      "(52911, 28, 28)\n",
      "Pickling /Users/srikanth_m07/Documents/ml_dataset/vision/notMNIST/notMNIST_small/A.pickle.\n",
      "folder name:- /Users/srikanth_m07/Documents/ml_dataset/vision/notMNIST/notMNIST_small/A\n",
      "Could not read: /Users/srikanth_m07/Documents/ml_dataset/vision/notMNIST/notMNIST_small/A/RGVtb2NyYXRpY2FCb2xkT2xkc3R5bGUgQm9sZC50dGY=.png : Could not find a format to read the specified file in mode 'i' - it's ok, skipping.\n",
      "Full dataset tensor: (1872, 28, 28)\n",
      "Mean: -0.13262637\n",
      "Standard deviation: 0.44512793\n",
      "(1872, 28, 28)\n",
      "Pickling /Users/srikanth_m07/Documents/ml_dataset/vision/notMNIST/notMNIST_small/B.pickle.\n",
      "folder name:- /Users/srikanth_m07/Documents/ml_dataset/vision/notMNIST/notMNIST_small/B\n",
      "Full dataset tensor: (1873, 28, 28)\n",
      "Mean: 0.005356085\n",
      "Standard deviation: 0.45711532\n",
      "(1873, 28, 28)\n",
      "Pickling /Users/srikanth_m07/Documents/ml_dataset/vision/notMNIST/notMNIST_small/C.pickle.\n",
      "folder name:- /Users/srikanth_m07/Documents/ml_dataset/vision/notMNIST/notMNIST_small/C\n",
      "Full dataset tensor: (1873, 28, 28)\n",
      "Mean: -0.1415206\n",
      "Standard deviation: 0.4426903\n",
      "(1873, 28, 28)\n",
      "Pickling /Users/srikanth_m07/Documents/ml_dataset/vision/notMNIST/notMNIST_small/D.pickle.\n",
      "folder name:- /Users/srikanth_m07/Documents/ml_dataset/vision/notMNIST/notMNIST_small/D\n",
      "Full dataset tensor: (1873, 28, 28)\n",
      "Mean: -0.04921666\n",
      "Standard deviation: 0.4597589\n",
      "(1873, 28, 28)\n",
      "Pickling /Users/srikanth_m07/Documents/ml_dataset/vision/notMNIST/notMNIST_small/E.pickle.\n",
      "folder name:- /Users/srikanth_m07/Documents/ml_dataset/vision/notMNIST/notMNIST_small/E\n",
      "Full dataset tensor: (1873, 28, 28)\n",
      "Mean: -0.05991479\n",
      "Standard deviation: 0.45734963\n",
      "(1873, 28, 28)\n",
      "Pickling /Users/srikanth_m07/Documents/ml_dataset/vision/notMNIST/notMNIST_small/F.pickle.\n",
      "folder name:- /Users/srikanth_m07/Documents/ml_dataset/vision/notMNIST/notMNIST_small/F\n",
      "Could not read: /Users/srikanth_m07/Documents/ml_dataset/vision/notMNIST/notMNIST_small/F/Q3Jvc3NvdmVyIEJvbGRPYmxpcXVlLnR0Zg==.png : Could not find a format to read the specified file in mode 'i' - it's ok, skipping.\n",
      "Full dataset tensor: (1872, 28, 28)\n",
      "Mean: -0.118185304\n",
      "Standard deviation: 0.45227867\n",
      "(1872, 28, 28)\n",
      "Pickling /Users/srikanth_m07/Documents/ml_dataset/vision/notMNIST/notMNIST_small/G.pickle.\n",
      "folder name:- /Users/srikanth_m07/Documents/ml_dataset/vision/notMNIST/notMNIST_small/G\n",
      "Full dataset tensor: (1872, 28, 28)\n",
      "Mean: -0.09255028\n",
      "Standard deviation: 0.44900584\n",
      "(1872, 28, 28)\n",
      "Pickling /Users/srikanth_m07/Documents/ml_dataset/vision/notMNIST/notMNIST_small/H.pickle.\n",
      "folder name:- /Users/srikanth_m07/Documents/ml_dataset/vision/notMNIST/notMNIST_small/H\n",
      "Full dataset tensor: (1872, 28, 28)\n",
      "Mean: -0.05868925\n",
      "Standard deviation: 0.45875895\n",
      "(1872, 28, 28)\n",
      "Pickling /Users/srikanth_m07/Documents/ml_dataset/vision/notMNIST/notMNIST_small/I.pickle.\n",
      "folder name:- /Users/srikanth_m07/Documents/ml_dataset/vision/notMNIST/notMNIST_small/I\n",
      "Full dataset tensor: (1872, 28, 28)\n",
      "Mean: 0.05264507\n",
      "Standard deviation: 0.47189355\n",
      "(1872, 28, 28)\n",
      "Pickling /Users/srikanth_m07/Documents/ml_dataset/vision/notMNIST/notMNIST_small/J.pickle.\n",
      "folder name:- /Users/srikanth_m07/Documents/ml_dataset/vision/notMNIST/notMNIST_small/J\n",
      "Full dataset tensor: (1872, 28, 28)\n",
      "Mean: -0.15168911\n",
      "Standard deviation: 0.44801357\n",
      "(1872, 28, 28)\n"
     ]
    }
   ],
   "source": [
    "#load the images into a more manageable format and store them in a more friendly readable format\n",
    "image_size = 28\n",
    "pixel_depth = 255.0\n",
    "\n",
    "def load_letter(folder, min_num_images):\n",
    "    image_files = os.listdir(folder)\n",
    "    dataset = np.ndarray(shape=(len(image_files), image_size, image_size), dtype=np.float32)\n",
    "    print('folder name:-', folder)\n",
    "    num_images = 0\n",
    "    for image in image_files:\n",
    "        image_file = os.path.join(folder, image)\n",
    "        try:\n",
    "            image_data = (imageio.imread(image_file).astype(float) - pixel_depth/2)/pixel_depth\n",
    "            if image_data.shape != (image_size, image_size):\n",
    "                raise Exception('Unexpected image shape: %s' % str(image_data.shape))\n",
    "            dataset[num_images, :, :] = image_data\n",
    "            num_images = num_images + 1\n",
    "        except (IOError, ValueError) as e:\n",
    "            print('Could not read:', image_file, ':', e, '- it\\'s ok, skipping.')\n",
    "    dataset = dataset[0:num_images, :, :]\n",
    "    if num_images < min_num_images:\n",
    "        raise Exception('Many fewer images than expected: %d < %d' % (num_images, min_num_images))\n",
    "    print('Full dataset tensor:', dataset.shape)\n",
    "    print('Mean:', np.mean(dataset))\n",
    "    print('Standard deviation:', np.std(dataset))\n",
    "    return dataset   \n",
    "\n",
    "def maybe_pickle(data_folders, min_num_images_per_class, force=False):\n",
    "    dataset_names = []\n",
    "    for folder in data_folders:\n",
    "        set_filename = folder + '.pickle'\n",
    "        dataset_names.append(set_filename)\n",
    "        if os.path.exists(set_filename) and not force:\n",
    "            print('%s already present - Skipping pickling.' % set_filename)\n",
    "        else:\n",
    "            print('Pickling %s.' % set_filename)\n",
    "            dataset = load_letter(folder, min_num_images_per_class)\n",
    "            try:\n",
    "                print(dataset.shape)\n",
    "                with open(set_filename, 'wb') as f:\n",
    "                    pickle.dump(dataset, f, pickle.HIGHEST_PROTOCOL)\n",
    "            except Exception as e:\n",
    "                print('unable to save data {}'.format(set_filename))\n",
    "    return dataset_names\n",
    "\n",
    "train_datasets = maybe_pickle(train_folders, 45000)\n",
    "test_datasets = maybe_pickle(test_folders, 1800)"
   ]
  },
  {
   "cell_type": "code",
   "execution_count": null,
   "metadata": {
    "collapsed": true
   },
   "outputs": [],
   "source": []
  }
 ],
 "metadata": {
  "kernelspec": {
   "display_name": "Python 3",
   "language": "python",
   "name": "python3"
  },
  "language_info": {
   "codemirror_mode": {
    "name": "ipython",
    "version": 3
   },
   "file_extension": ".py",
   "mimetype": "text/x-python",
   "name": "python",
   "nbconvert_exporter": "python",
   "pygments_lexer": "ipython3",
   "version": "3.6.3"
  }
 },
 "nbformat": 4,
 "nbformat_minor": 2
}
