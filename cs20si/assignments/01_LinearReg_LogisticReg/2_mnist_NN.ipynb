{
 "cells": [
  {
   "cell_type": "code",
   "execution_count": 1,
   "metadata": {},
   "outputs": [
    {
     "name": "stderr",
     "output_type": "stream",
     "text": [
      "/Users/srikanth_m07/anaconda3/lib/python3.6/site-packages/h5py/__init__.py:34: FutureWarning: Conversion of the second argument of issubdtype from `float` to `np.floating` is deprecated. In future, it will be treated as `np.float64 == np.dtype(float).type`.\n",
      "  from ._conv import register_converters as _register_converters\n"
     ]
    },
    {
     "data": {
      "text/plain": [
       "'1.8.0'"
      ]
     },
     "execution_count": 1,
     "metadata": {},
     "output_type": "execute_result"
    }
   ],
   "source": [
    "import os\n",
    "import time\n",
    "\n",
    "import tensorflow as tf\n",
    "from tensorflow.examples.tutorials.mnist import input_data\n",
    "\n",
    "tf.__version__"
   ]
  },
  {
   "cell_type": "code",
   "execution_count": 2,
   "metadata": {
    "collapsed": true
   },
   "outputs": [],
   "source": [
    "#mnist datapath\n",
    "DATAPATH = '/Users/srikanth_m07/Documents/ml_dataset/vision/mnist'"
   ]
  },
  {
   "cell_type": "code",
   "execution_count": 3,
   "metadata": {
    "collapsed": true
   },
   "outputs": [],
   "source": [
    "# Define paramaters for the model\n",
    "learning_rate = 0.01\n",
    "batch_size = 128\n",
    "n_epochs = 30\n",
    "n_train = 60000\n",
    "n_test = 10000"
   ]
  },
  {
   "cell_type": "code",
   "execution_count": 4,
   "metadata": {},
   "outputs": [
    {
     "name": "stdout",
     "output_type": "stream",
     "text": [
      "WARNING:tensorflow:From <ipython-input-4-6ad5a5d470a5>:1: read_data_sets (from tensorflow.contrib.learn.python.learn.datasets.mnist) is deprecated and will be removed in a future version.\n",
      "Instructions for updating:\n",
      "Please use alternatives such as official/mnist/dataset.py from tensorflow/models.\n",
      "WARNING:tensorflow:From /Users/srikanth_m07/anaconda3/lib/python3.6/site-packages/tensorflow/contrib/learn/python/learn/datasets/mnist.py:260: maybe_download (from tensorflow.contrib.learn.python.learn.datasets.base) is deprecated and will be removed in a future version.\n",
      "Instructions for updating:\n",
      "Please write your own downloading logic.\n",
      "WARNING:tensorflow:From /Users/srikanth_m07/anaconda3/lib/python3.6/site-packages/tensorflow/contrib/learn/python/learn/datasets/mnist.py:262: extract_images (from tensorflow.contrib.learn.python.learn.datasets.mnist) is deprecated and will be removed in a future version.\n",
      "Instructions for updating:\n",
      "Please use tf.data to implement this functionality.\n",
      "Extracting /Users/srikanth_m07/Documents/ml_dataset/vision/mnist/train-images-idx3-ubyte.gz\n",
      "WARNING:tensorflow:From /Users/srikanth_m07/anaconda3/lib/python3.6/site-packages/tensorflow/contrib/learn/python/learn/datasets/mnist.py:267: extract_labels (from tensorflow.contrib.learn.python.learn.datasets.mnist) is deprecated and will be removed in a future version.\n",
      "Instructions for updating:\n",
      "Please use tf.data to implement this functionality.\n",
      "Extracting /Users/srikanth_m07/Documents/ml_dataset/vision/mnist/train-labels-idx1-ubyte.gz\n",
      "WARNING:tensorflow:From /Users/srikanth_m07/anaconda3/lib/python3.6/site-packages/tensorflow/contrib/learn/python/learn/datasets/mnist.py:110: dense_to_one_hot (from tensorflow.contrib.learn.python.learn.datasets.mnist) is deprecated and will be removed in a future version.\n",
      "Instructions for updating:\n",
      "Please use tf.one_hot on tensors.\n",
      "Extracting /Users/srikanth_m07/Documents/ml_dataset/vision/mnist/t10k-images-idx3-ubyte.gz\n",
      "Extracting /Users/srikanth_m07/Documents/ml_dataset/vision/mnist/t10k-labels-idx1-ubyte.gz\n",
      "WARNING:tensorflow:From /Users/srikanth_m07/anaconda3/lib/python3.6/site-packages/tensorflow/contrib/learn/python/learn/datasets/mnist.py:290: DataSet.__init__ (from tensorflow.contrib.learn.python.learn.datasets.mnist) is deprecated and will be removed in a future version.\n",
      "Instructions for updating:\n",
      "Please use alternatives such as official/mnist/dataset.py from tensorflow/models.\n"
     ]
    }
   ],
   "source": [
    "mnist = input_data.read_data_sets(DATAPATH, one_hot=True)\n",
    "X_batch, Y_batch = mnist.train.next_batch(batch_size)"
   ]
  },
  {
   "cell_type": "code",
   "execution_count": 5,
   "metadata": {
    "collapsed": true
   },
   "outputs": [],
   "source": [
    "#define placeholders\n",
    "X = tf.placeholder(shape=[None, 28*28], dtype=tf.float32, name='input')\n",
    "y = tf.placeholder(shape=[None, 10], dtype=tf.uint8, name='labels')"
   ]
  },
  {
   "cell_type": "code",
   "execution_count": 13,
   "metadata": {
    "collapsed": true
   },
   "outputs": [],
   "source": [
    "#define NN hidden size, \n",
    "hidden_size_1 = 500\n",
    "hidden_size_2 = 500"
   ]
  },
  {
   "cell_type": "code",
   "execution_count": 14,
   "metadata": {},
   "outputs": [],
   "source": [
    "#define weights and biases\n",
    "w1 = tf.Variable(tf.random_normal(shape=[28*28, hidden_size_1], stddev=0.01))\n",
    "b1 = tf.Variable(tf.zeros([hidden_size_1]))\n",
    "w2 = tf.Variable(tf.random_normal(shape=[hidden_size_1, hidden_size_2], stddev=0.01))\n",
    "b2 = tf.Variable(tf.zeros([hidden_size_2]))\n",
    "w3 = tf.Variable(tf.random_normal(shape=[hidden_size_2, 10], stddev=0.01))\n",
    "b3 = tf.Variable(tf.zeros([10]))"
   ]
  },
  {
   "cell_type": "code",
   "execution_count": 15,
   "metadata": {
    "collapsed": true
   },
   "outputs": [],
   "source": [
    "#build NN model\n",
    "z1 = tf.matmul(X, w1)+ b1\n",
    "a1 = tf.nn.relu(z1)\n",
    "z2 = tf.matmul(a1, w2)+ b2\n",
    "a2 = tf.nn.relu(z2)\n",
    "logits = tf.matmul(a2, w3)+ b3"
   ]
  },
  {
   "cell_type": "code",
   "execution_count": 16,
   "metadata": {
    "collapsed": true
   },
   "outputs": [],
   "source": [
    "#build simple logistic model\n",
    "entropy = tf.nn.softmax_cross_entropy_with_logits_v2(labels=y, logits=logits, name='loss')\n",
    "loss = tf.reduce_mean(entropy)\n",
    "optimizer = tf.train.AdamOptimizer(learning_rate=learning_rate).minimize(loss)"
   ]
  },
  {
   "cell_type": "code",
   "execution_count": 17,
   "metadata": {
    "collapsed": true
   },
   "outputs": [],
   "source": [
    "#calculate accuracy\n",
    "preds = tf.nn.softmax(logits)\n",
    "correct_preds = tf.equal(tf.argmax(preds, 1), tf.argmax(y, 1))\n",
    "accuracy = tf.reduce_sum(tf.cast(correct_preds, tf.float32))"
   ]
  },
  {
   "cell_type": "code",
   "execution_count": 18,
   "metadata": {
    "collapsed": true
   },
   "outputs": [],
   "source": [
    "#write summary\n",
    "writer = tf.summary.FileWriter('./graphs/2-layer_nn', tf.get_default_graph())"
   ]
  },
  {
   "cell_type": "code",
   "execution_count": 19,
   "metadata": {},
   "outputs": [
    {
     "name": "stdout",
     "output_type": "stream",
     "text": [
      "Average loss epoch 0: 0.26357130637709353\n",
      "Average loss epoch 1: 0.1367504495285052\n",
      "Average loss epoch 2: 0.11579157203427214\n",
      "Average loss epoch 3: 0.10721764743267309\n",
      "Average loss epoch 4: 0.09581691064461545\n",
      "Average loss epoch 5: 0.08467360250521581\n",
      "Average loss epoch 6: 0.07377478202461918\n",
      "Average loss epoch 7: 0.07094542689931889\n",
      "Average loss epoch 8: 0.0757259244440093\n",
      "Average loss epoch 9: 0.06595698890649651\n",
      "Average loss epoch 10: 0.05864225866963566\n",
      "Average loss epoch 11: 0.07396235959745492\n",
      "Average loss epoch 12: 0.05606624406031366\n",
      "Average loss epoch 13: 0.05909808058043918\n",
      "Average loss epoch 14: 0.0643863370800475\n",
      "Average loss epoch 15: 0.0490415870981133\n",
      "Average loss epoch 16: 0.05177007783981776\n",
      "Average loss epoch 17: 0.050218422152061286\n",
      "Average loss epoch 18: 0.050087426677642016\n",
      "Average loss epoch 19: 0.040820151973420225\n",
      "Average loss epoch 20: 0.03874224494714036\n",
      "Average loss epoch 21: 0.04493488108650792\n",
      "Average loss epoch 22: 0.04482149795392675\n",
      "Average loss epoch 23: 0.038850347854771705\n",
      "Average loss epoch 24: 0.04727849183656325\n",
      "Average loss epoch 25: 0.037425675522371527\n",
      "Average loss epoch 26: 0.0449942490258032\n",
      "Average loss epoch 27: 0.04413639299824324\n",
      "Average loss epoch 28: 0.03595547805438366\n",
      "Average loss epoch 29: 0.037568205300421605\n",
      "Total time: 125.83846187591553 seconds\n",
      "Test Accuracy 0.972\n"
     ]
    }
   ],
   "source": [
    "with tf.Session() as sess:\n",
    "    start_time = time.time()\n",
    "    sess.run(tf.global_variables_initializer())\n",
    "    n_batches = int(mnist.train.num_examples/batch_size)\n",
    "\n",
    "    #run the model in n_epochs x n_batches times\n",
    "    for epoch in range(n_epochs):\n",
    "        total_loss = 0\n",
    "        for i in range(n_batches):\n",
    "            x_batch, y_batch = mnist.train.next_batch(batch_size)\n",
    "            _, loss_batch = sess.run([optimizer, loss], {X: x_batch, y:y_batch})\n",
    "            total_loss += loss_batch\n",
    "        print('Average loss epoch {0}: {1}'.format(epoch, total_loss/n_batches))\n",
    "    print('Total time: {0} seconds'.format(time.time() - start_time))\n",
    "    \n",
    "    n_batches = int(mnist.test.num_examples/batch_size)\n",
    "    total_correct_preds = 0\n",
    "    \n",
    "    for i in range(n_batches):\n",
    "        x_batch, y_batch = mnist.test.next_batch(batch_size)\n",
    "        accuracy_batch = sess.run(accuracy, {X: x_batch, y:y_batch})\n",
    "        total_correct_preds += accuracy_batch\n",
    "        \n",
    "    print('Test Accuracy {0}'.format(total_correct_preds/mnist.test.num_examples))\n",
    "        \n",
    "writer.close()"
   ]
  },
  {
   "cell_type": "markdown",
   "metadata": {},
   "source": [
    "### Results"
   ]
  },
  {
   "cell_type": "code",
   "execution_count": null,
   "metadata": {
    "collapsed": true
   },
   "outputs": [],
   "source": [
    "# 1\n",
    "hidden_size = 100\n",
    "learning rate = 0.02\n",
    "n_epochs = 30\n",
    "batch_size = 64\n",
    "accuracy = 95.29\n",
    "\n",
    "# 2\n",
    "hidden_size = 100\n",
    "learning rate = 0.1\n",
    "n_epochs = 30\n",
    "batch_size = 128\n",
    "accuracy = 96.03\n",
    "\n",
    "# 3\n",
    "hidden_size = 100\n",
    "learning rate = 0.01\n",
    "n_epochs = 30\n",
    "batch_size = 128\n",
    "accuracy = 96.57\n",
    "\n",
    "# 4\n",
    "hidden_size = 200\n",
    "learning rate = 0.01\n",
    "n_epochs = 30\n",
    "batch_size = 128\n",
    "accuracy = 96.98\n",
    "\n",
    "# 5\n",
    "hidden_size = 500\n",
    "learning rate = 0.01\n",
    "n_epochs = 30\n",
    "batch_size = 128\n",
    "accuracy = 97.2\n",
    "\n",
    "#more can be done with increasing epochs, dropout, learning_rate etc"
   ]
  }
 ],
 "metadata": {
  "kernelspec": {
   "display_name": "Python 3",
   "language": "python",
   "name": "python3"
  },
  "language_info": {
   "codemirror_mode": {
    "name": "ipython",
    "version": 3
   },
   "file_extension": ".py",
   "mimetype": "text/x-python",
   "name": "python",
   "nbconvert_exporter": "python",
   "pygments_lexer": "ipython3",
   "version": "3.6.3"
  }
 },
 "nbformat": 4,
 "nbformat_minor": 2
}
