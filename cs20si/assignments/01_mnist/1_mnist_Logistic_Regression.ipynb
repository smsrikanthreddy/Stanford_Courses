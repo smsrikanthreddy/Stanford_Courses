{
 "cells": [
  {
   "cell_type": "code",
   "execution_count": 29,
   "metadata": {},
   "outputs": [
    {
     "data": {
      "text/plain": [
       "'1.8.0'"
      ]
     },
     "execution_count": 29,
     "metadata": {},
     "output_type": "execute_result"
    }
   ],
   "source": [
    "import os\n",
    "import time\n",
    "\n",
    "import tensorflow as tf\n",
    "from tensorflow.examples.tutorials.mnist import input_data\n",
    "\n",
    "tf.__version__"
   ]
  },
  {
   "cell_type": "code",
   "execution_count": 3,
   "metadata": {
    "collapsed": true
   },
   "outputs": [],
   "source": [
    "#mnist datapath\n",
    "DATAPATH = '/Users/srikanth_m07/Documents/ml_dataset/vision/mnist'"
   ]
  },
  {
   "cell_type": "code",
   "execution_count": 14,
   "metadata": {
    "collapsed": true
   },
   "outputs": [],
   "source": [
    "# Define paramaters for the model\n",
    "learning_rate = 0.01\n",
    "batch_size = 128\n",
    "n_epochs = 30\n",
    "n_train = 60000\n",
    "n_test = 10000"
   ]
  },
  {
   "cell_type": "code",
   "execution_count": 17,
   "metadata": {},
   "outputs": [
    {
     "name": "stdout",
     "output_type": "stream",
     "text": [
      "Extracting /Users/srikanth_m07/Documents/ml_dataset/vision/mnist/train-images-idx3-ubyte.gz\n",
      "Extracting /Users/srikanth_m07/Documents/ml_dataset/vision/mnist/train-labels-idx1-ubyte.gz\n",
      "Extracting /Users/srikanth_m07/Documents/ml_dataset/vision/mnist/t10k-images-idx3-ubyte.gz\n",
      "Extracting /Users/srikanth_m07/Documents/ml_dataset/vision/mnist/t10k-labels-idx1-ubyte.gz\n"
     ]
    }
   ],
   "source": [
    "mnist = input_data.read_data_sets(DATAPATH, one_hot=True)\n",
    "X_batch, Y_batch = mnist.train.next_batch(batch_size)"
   ]
  },
  {
   "cell_type": "code",
   "execution_count": 23,
   "metadata": {},
   "outputs": [],
   "source": [
    "#define placeholders\n",
    "X = tf.placeholder(dtype=tf.float32, shape=(batch_size, 784), name='image')\n",
    "y = tf.placeholder(dtype=tf.int32, shape=(batch_size, 10), name='label')"
   ]
  },
  {
   "cell_type": "code",
   "execution_count": 21,
   "metadata": {},
   "outputs": [],
   "source": [
    "#define weights and biases\n",
    "w = tf.get_variable(name='weights', shape=(784, 10), initializer=tf.random_normal_initializer())\n",
    "b = tf.get_variable(name='bias', shape=(1, 10), initializer=tf.zeros_initializer())"
   ]
  },
  {
   "cell_type": "code",
   "execution_count": 25,
   "metadata": {},
   "outputs": [],
   "source": [
    "#build simple logistic model\n",
    "logits = tf.matmul(X, w)+ b\n",
    "entropy = tf.nn.softmax_cross_entropy_with_logits_v2(labels=y, logits=logits, name='loss')\n",
    "loss = tf.reduce_mean(entropy)\n",
    "optimizer = tf.train.AdamOptimizer(learning_rate=0.01).minimize(loss)"
   ]
  },
  {
   "cell_type": "code",
   "execution_count": 26,
   "metadata": {
    "collapsed": true
   },
   "outputs": [],
   "source": [
    "#calculate accuracy\n",
    "preds = tf.nn.softmax(logits)\n",
    "correct_preds = tf.equal(tf.argmax(preds, 1), tf.argmax(y, 1))\n",
    "accuracy = tf.reduce_sum(tf.cast(correct_preds, tf.float32))"
   ]
  },
  {
   "cell_type": "code",
   "execution_count": 27,
   "metadata": {
    "collapsed": true
   },
   "outputs": [],
   "source": [
    "#write summary\n",
    "writer = tf.summary.FileWriter('./graphs/logreg', tf.get_default_graph())"
   ]
  },
  {
   "cell_type": "code",
   "execution_count": 37,
   "metadata": {},
   "outputs": [
    {
     "name": "stdout",
     "output_type": "stream",
     "text": [
      "Average loss epoch 0: 1.525209803542335\n",
      "Average loss epoch 1: 0.5310279826323191\n",
      "Average loss epoch 2: 0.4287914587901189\n",
      "Average loss epoch 3: 0.38221683179512445\n",
      "Average loss epoch 4: 0.3591701967906563\n",
      "Average loss epoch 5: 0.3327716920342479\n",
      "Average loss epoch 6: 0.3240082635086177\n",
      "Average loss epoch 7: 0.3088279140023363\n",
      "Average loss epoch 8: 0.3044753159398521\n",
      "Average loss epoch 9: 0.296132253044413\n",
      "Average loss epoch 10: 0.2880335781367231\n",
      "Average loss epoch 11: 0.2864164383973414\n",
      "Average loss epoch 12: 0.2816324712999495\n",
      "Average loss epoch 13: 0.27783154866425863\n",
      "Average loss epoch 14: 0.27904950929827343\n",
      "Average loss epoch 15: 0.2729590032553617\n",
      "Average loss epoch 16: 0.27140291710764103\n",
      "Average loss epoch 17: 0.2675103552309505\n",
      "Average loss epoch 18: 0.2684206814094857\n",
      "Average loss epoch 19: 0.2636601045067772\n",
      "Average loss epoch 20: 0.26696294506182483\n",
      "Average loss epoch 21: 0.26375268694959875\n",
      "Average loss epoch 22: 0.2629603121629406\n",
      "Average loss epoch 23: 0.2633355240791272\n",
      "Average loss epoch 24: 0.25842703471615874\n",
      "Average loss epoch 25: 0.25886148042403734\n",
      "Average loss epoch 26: 0.25818480365412494\n",
      "Average loss epoch 27: 0.25998187094648956\n",
      "Average loss epoch 28: 0.2539684836924215\n",
      "Average loss epoch 29: 0.2591880929845196\n",
      "Total time: 18.114360809326172 seconds\n",
      "Accuracy 0.9179\n"
     ]
    }
   ],
   "source": [
    "with tf.Session() as sess:\n",
    "    start_time = time.time()\n",
    "    sess.run(tf.global_variables_initializer())\n",
    "    n_batches = int(mnist.train.num_examples/batch_size)\n",
    "\n",
    "    #run the model in n_epochs x n_batches times\n",
    "    for epoch in range(n_epochs):\n",
    "        total_loss = 0\n",
    "        for i in range(n_batches):\n",
    "            x_batch, y_batch = mnist.train.next_batch(batch_size)\n",
    "            _, loss_batch = sess.run([optimizer, loss], {X: x_batch, y:y_batch})\n",
    "            total_loss += loss_batch\n",
    "        print('Average loss epoch {0}: {1}'.format(epoch, total_loss/n_batches))\n",
    "    print('Total time: {0} seconds'.format(time.time() - start_time))\n",
    "    \n",
    "    n_batches = int(mnist.test.num_examples/batch_size)\n",
    "    total_correct_preds = 0\n",
    "    \n",
    "    for i in range(n_batches):\n",
    "        x_batch, y_batch = mnist.test.next_batch(batch_size)\n",
    "        accuracy_batch = sess.run(accuracy, {X: x_batch, y:y_batch})\n",
    "        total_correct_preds += accuracy_batch\n",
    "        \n",
    "    print('Test Accuracy {0}'.format(total_correct_preds/mnist.test.num_examples))\n",
    "        \n",
    "writer.close()"
   ]
  },
  {
   "cell_type": "code",
   "execution_count": null,
   "metadata": {
    "collapsed": true
   },
   "outputs": [],
   "source": []
  }
 ],
 "metadata": {
  "kernelspec": {
   "display_name": "Python 3",
   "language": "python",
   "name": "python3"
  },
  "language_info": {
   "codemirror_mode": {
    "name": "ipython",
    "version": 3
   },
   "file_extension": ".py",
   "mimetype": "text/x-python",
   "name": "python",
   "nbconvert_exporter": "python",
   "pygments_lexer": "ipython3",
   "version": "3.6.3"
  }
 },
 "nbformat": 4,
 "nbformat_minor": 2
}
